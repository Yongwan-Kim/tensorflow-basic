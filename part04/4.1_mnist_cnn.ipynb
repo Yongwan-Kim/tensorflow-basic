{
 "cells": [
  {
   "attachments": {},
   "cell_type": "markdown",
   "metadata": {},
   "source": [
    "[구글 코랩(Colab)에서 실행하기](https://colab.research.google.com/github/lovedlim/tensorflow/blob/main/Part%204/4.1_mnist_cnn.ipynb)"
   ]
  },
  {
   "attachments": {},
   "cell_type": "markdown",
   "metadata": {},
   "source": [
    "## import"
   ]
  },
  {
   "cell_type": "code",
   "execution_count": null,
   "metadata": {},
   "outputs": [],
   "source": [
    "'''\n",
    "import numpy as np\n",
    "import matplotlib.pyplot as plt\n",
    "import tensorflow as tf\n",
    "\n",
    "# 케라스의 내장 데이터셋에서 mnist 데이터셋을 로드\n",
    "mnist = tf.keras.datasets.mnist\n",
    "\n",
    "# load_data()로 데이터셋을 로드 합니다.\n",
    "(x_train, y_train), (x_test, y_test) = mnist.load_data()\n",
    "\n",
    "# 데이터 정규화\n",
    "x_train = x_train / x_train.max()\n",
    "x_test = x_test / x_test.max()\n",
    "'''"
   ]
  },
  {
   "cell_type": "code",
   "execution_count": 1,
   "metadata": {},
   "outputs": [
    {
     "name": "stdout",
     "output_type": "stream",
     "text": [
      "train set:  (60000, 28, 28) (60000,)\n",
      "test  set:  (10000, 28, 28) (10000,)\n",
      "x_train[0, 10:15, 10:15] = array([[  1, 154, 253,  90,   0],\n",
      "       [  0, 139, 253, 190,   2],\n",
      "       [  0,  11, 190, 253,  70],\n",
      "       [  0,   0,  35, 241, 225],\n",
      "       [  0,   0,   0,  81, 240]], dtype=uint8)\n",
      "x_test[0, 10:15, 10:15] = array([[ 0, 17, 66, 14, 67],\n",
      "       [ 0,  0,  0,  0,  0],\n",
      "       [ 0,  0,  0,  0,  0],\n",
      "       [ 0,  0,  0,  0,  0],\n",
      "       [ 0,  0,  0,  0,  0]], dtype=uint8)\n"
     ]
    }
   ],
   "source": [
    "import numpy as np\n",
    "import tensorflow as tf\n",
    "\n",
    "# 파일 경로 설정 (환경에 맞게 수정하세요)\n",
    "mnist_path = '../dataset/mnist/mnist.npz'  # 윈도우 예시\n",
    "#mnist_path = 'D:/datasets/mnist.npz'  # 윈도우 예시\n",
    "# mnist_path = '/home/user/datasets/mnist.npz'  # 리눅스 예시\n",
    "\n",
    "# npz 파일 직접 로드\n",
    "with np.load(mnist_path) as data:\n",
    "    x_train = data['x_train']\n",
    "    y_train = data['y_train']\n",
    "    x_valid = data['x_test']\n",
    "    y_valid = data['y_test']\n",
    "\n",
    "# 데이터 확인\n",
    "print('train set: ', x_train.shape, y_train.shape)\n",
    "print('test  set: ', x_valid.shape, y_valid.shape)\n",
    "\n",
    "# 정규화\n",
    "#x_train = x_train / x_train.max()\n",
    "#x_valid = x_valid / x_valid.max()\n",
    "\n",
    "print(\"x_train[0, 10:15, 10:15] = \" + repr(x_train[0, 10:15, 10:15]))\n",
    "print(\"x_test[0, 10:15, 10:15] = \" + repr(x_valid[0, 10:15, 10:15]))"
   ]
  },
  {
   "cell_type": "code",
   "execution_count": 2,
   "metadata": {},
   "outputs": [
    {
     "name": "stdout",
     "output_type": "stream",
     "text": [
      "(60000, 28, 28) (60000,)\n",
      "(10000, 28, 28) (10000,)\n"
     ]
    }
   ],
   "source": [
    "print(x_train.shape, y_train.shape)\n",
    "print(x_valid.shape, y_valid.shape)"
   ]
  },
  {
   "cell_type": "code",
   "execution_count": 3,
   "metadata": {},
   "outputs": [
    {
     "data": {
      "image/png": "[encoded data removed]",
      "text/plain": [
       "<Figure size 500x500 with 1 Axes>"
      ]
     },
     "metadata": {},
     "output_type": "display_data"
    }
   ],
   "source": [
    "# 샘플 이미지 출력\n",
    "import matplotlib.pylab as plt\n",
    "\n",
    "def plot_image(data, idx):\n",
    "    plt.figure(figsize=(5, 5))\n",
    "    plt.imshow(data[idx], cmap=\"gray\")\n",
    "    plt.axis(\"off\")\n",
    "    plt.show()\n",
    "\n",
    "plot_image(x_train, 0)"
   ]
  },
  {
   "cell_type": "code",
   "execution_count": 4,
   "metadata": {},
   "outputs": [
    {
     "name": "stdout",
     "output_type": "stream",
     "text": [
      "0 255\n",
      "0 255\n"
     ]
    }
   ],
   "source": [
    "print(x_train.min(), x_train.max())\n",
    "print(x_valid.min(), x_valid.max())"
   ]
  },
  {
   "cell_type": "code",
   "execution_count": 5,
   "metadata": {},
   "outputs": [
    {
     "name": "stdout",
     "output_type": "stream",
     "text": [
      "0.0 1.0\n",
      "0.0 1.0\n"
     ]
    }
   ],
   "source": [
    "# 정규화(Normalization)\n",
    "x_train = x_train / 255.0\n",
    "x_valid = x_valid / 255.0\n",
    "\n",
    "print(x_train.min(), x_train.max())\n",
    "print(x_valid.min(), x_valid.max())"
   ]
  },
  {
   "cell_type": "code",
   "execution_count": 6,
   "metadata": {},
   "outputs": [
    {
     "name": "stdout",
     "output_type": "stream",
     "text": [
      "(60000, 28, 28) (10000, 28, 28)\n",
      "(60000, 28, 28, 1) (10000, 28, 28, 1)\n"
     ]
    }
   ],
   "source": [
    "# 채널 추가\n",
    "print(x_train.shape, x_valid.shape)\n",
    "\n",
    "x_train_in = x_train[..., tf.newaxis]\n",
    "x_valid_in = x_valid[..., tf.newaxis]\n",
    "\n",
    "print(x_train_in.shape, x_valid_in.shape)"
   ]
  },
  {
   "attachments": {},
   "cell_type": "markdown",
   "metadata": {},
   "source": [
    "## Simple CNN"
   ]
  },
  {
   "cell_type": "code",
   "execution_count": 7,
   "metadata": {},
   "outputs": [],
   "source": [
    "# Sequential API를 사용하여 샘플 모델 생성\n",
    "model = tf.keras.Sequential([\n",
    "    # Convolution 적용 (32 filters)\n",
    "    tf.keras.layers.Conv2D(32, (3, 3), activation='relu', \n",
    "                           input_shape=(28, 28, 1), name='conv'),\n",
    "    # Max Pooling 적용\n",
    "    tf.keras.layers.MaxPooling2D((2, 2), name='pool'),\n",
    "    # Classifier 출력층 \n",
    "    tf.keras.layers.Flatten(),\n",
    "    tf.keras.layers.Dense(10, activation='softmax'),\n",
    "])"
   ]
  },
  {
   "cell_type": "code",
   "execution_count": 8,
   "metadata": {},
   "outputs": [
    {
     "name": "stdout",
     "output_type": "stream",
     "text": [
      "Epoch 1/10\n",
      "1875/1875 [==============================] - 11s 6ms/step - loss: 0.2148 - accuracy: 0.9389 - val_loss: 0.0932 - val_accuracy: 0.9720\n",
      "Epoch 2/10\n",
      "1875/1875 [==============================] - 10s 5ms/step - loss: 0.0778 - accuracy: 0.9771 - val_loss: 0.0681 - val_accuracy: 0.9778\n",
      "Epoch 3/10\n",
      "1875/1875 [==============================] - 10s 6ms/step - loss: 0.0599 - accuracy: 0.9822 - val_loss: 0.0563 - val_accuracy: 0.9810\n",
      "Epoch 4/10\n",
      "1875/1875 [==============================] - 10s 6ms/step - loss: 0.0498 - accuracy: 0.9851 - val_loss: 0.0525 - val_accuracy: 0.9818\n",
      "Epoch 5/10\n",
      "1875/1875 [==============================] - 12s 6ms/step - loss: 0.0417 - accuracy: 0.9869 - val_loss: 0.0516 - val_accuracy: 0.9837\n",
      "Epoch 6/10\n",
      "1875/1875 [==============================] - 12s 6ms/step - loss: 0.0355 - accuracy: 0.9891 - val_loss: 0.0519 - val_accuracy: 0.9835\n",
      "Epoch 7/10\n",
      "1875/1875 [==============================] - 11s 6ms/step - loss: 0.0303 - accuracy: 0.9908 - val_loss: 0.0479 - val_accuracy: 0.9848\n",
      "Epoch 8/10\n",
      "1875/1875 [==============================] - 11s 6ms/step - loss: 0.0263 - accuracy: 0.9919 - val_loss: 0.0498 - val_accuracy: 0.9849\n",
      "Epoch 9/10\n",
      "1875/1875 [==============================] - 11s 6ms/step - loss: 0.0221 - accuracy: 0.9935 - val_loss: 0.0577 - val_accuracy: 0.9827\n",
      "Epoch 10/10\n",
      "1875/1875 [==============================] - 11s 6ms/step - loss: 0.0189 - accuracy: 0.9942 - val_loss: 0.0533 - val_accuracy: 0.9845\n"
     ]
    }
   ],
   "source": [
    "# 모델 컴파일\n",
    "model.compile(optimizer='adam', loss='sparse_categorical_crossentropy', metrics=['accuracy'])\n",
    "\n",
    "# 모델 훈련\n",
    "history = model.fit(x_train_in, y_train, \n",
    "                    validation_data=(x_valid_in, y_valid), \n",
    "                    epochs=10)"
   ]
  },
  {
   "cell_type": "code",
   "execution_count": 9,
   "metadata": {},
   "outputs": [
    {
     "name": "stdout",
     "output_type": "stream",
     "text": [
      "313/313 [==============================] - 1s 2ms/step - loss: 0.0533 - accuracy: 0.9845\n"
     ]
    },
    {
     "data": {
      "text/plain": [
       "[0.05332816764712334, 0.984499990940094]"
      ]
     },
     "execution_count": 9,
     "metadata": {},
     "output_type": "execute_result"
    }
   ],
   "source": [
    "model.evaluate(x_valid_in, y_valid)"
   ]
  },
  {
   "cell_type": "code",
   "execution_count": 10,
   "metadata": {},
   "outputs": [
    {
     "data": {
      "image/png": "[encoded data removed]",
      "text/plain": [
       "<Figure size 1200x400 with 2 Axes>"
      ]
     },
     "metadata": {},
     "output_type": "display_data"
    }
   ],
   "source": [
    "def plot_loss_acc(history, epoch):\n",
    "\n",
    "    loss, val_loss = history.history['loss'], history.history['val_loss']\n",
    "    acc, val_acc = history.history['accuracy'], history.history['val_accuracy']\n",
    "\n",
    "    fig, axes = plt.subplots(1, 2, figsize=(12, 4))\n",
    "\n",
    "    axes[0].plot(range(1, epoch + 1), loss, label='Training')\n",
    "    axes[0].plot(range(1, epoch + 1), val_loss, label='Validation')\n",
    "    axes[0].legend(loc='best')\n",
    "    axes[0].set_title('Loss')\n",
    "\n",
    "    axes[1].plot(range(1, epoch + 1), acc, label='Training')\n",
    "    axes[1].plot(range(1, epoch + 1), val_acc, label='Validation')\n",
    "    axes[1].legend(loc='best')\n",
    "    axes[1].set_title('Accuracy')\n",
    "\n",
    "    plt.show()\n",
    "\n",
    "plot_loss_acc(history, 10)"
   ]
  },
  {
   "attachments": {},
   "cell_type": "markdown",
   "metadata": {},
   "source": [
    "## CNN 레이어 중간 출력값을 시각화"
   ]
  },
  {
   "cell_type": "code",
   "execution_count": 12,
   "metadata": {},
   "outputs": [
    {
     "name": "stdout",
     "output_type": "stream",
     "text": [
      "Model: \"sequential\"\n",
      "_________________________________________________________________\n",
      " Layer (type)                Output Shape              Param #   \n",
      "=================================================================\n",
      " conv (Conv2D)               (None, 26, 26, 32)        320       \n",
      "                                                                 \n",
      " pool (MaxPooling2D)         (None, 13, 13, 32)        0         \n",
      "                                                                 \n",
      " flatten (Flatten)           (None, 5408)              0         \n",
      "                                                                 \n",
      " dense (Dense)               (None, 10)                54090     \n",
      "                                                                 \n",
      "=================================================================\n",
      "Total params: 54410 (212.54 KB)\n",
      "Trainable params: 54410 (212.54 KB)\n",
      "Non-trainable params: 0 (0.00 Byte)\n",
      "_________________________________________________________________\n"
     ]
    }
   ],
   "source": [
    "# 모델 구조 \n",
    "model.summary()"
   ]
  },
  {
   "cell_type": "code",
   "execution_count": 13,
   "metadata": {},
   "outputs": [
    {
     "data": {
      "text/plain": [
       "<KerasTensor: shape=(None, 28, 28, 1) dtype=float32 (created by layer 'conv_input')>"
      ]
     },
     "execution_count": 13,
     "metadata": {},
     "output_type": "execute_result"
    }
   ],
   "source": [
    "# 입력 텐서 형태 \n",
    "model.input"
   ]
  },
  {
   "cell_type": "code",
   "execution_count": 14,
   "metadata": {},
   "outputs": [
    {
     "data": {
      "text/plain": [
       "<KerasTensor: shape=(None, 10) dtype=float32 (created by layer 'dense')>"
      ]
     },
     "execution_count": 14,
     "metadata": {},
     "output_type": "execute_result"
    }
   ],
   "source": [
    "# 출력 텐서 형태 \n",
    "model.output"
   ]
  },
  {
   "cell_type": "code",
   "execution_count": 15,
   "metadata": {},
   "outputs": [
    {
     "data": {
      "text/plain": [
       "[<keras.src.layers.convolutional.conv2d.Conv2D at 0x1b7d5ea4820>,\n",
       " <keras.src.layers.pooling.max_pooling2d.MaxPooling2D at 0x1b7d5f4f340>,\n",
       " <keras.src.layers.reshaping.flatten.Flatten at 0x1b7d5f4f670>,\n",
       " <keras.src.layers.core.dense.Dense at 0x1b7d5f4fa30>]"
      ]
     },
     "execution_count": 15,
     "metadata": {},
     "output_type": "execute_result"
    }
   ],
   "source": [
    "# 레이어 \n",
    "model.layers"
   ]
  },
  {
   "cell_type": "code",
   "execution_count": 16,
   "metadata": {},
   "outputs": [
    {
     "data": {
      "text/plain": [
       "<keras.src.layers.convolutional.conv2d.Conv2D at 0x1b7d5ea4820>"
      ]
     },
     "execution_count": 16,
     "metadata": {},
     "output_type": "execute_result"
    }
   ],
   "source": [
    "# 첫번째 레이어 선택\n",
    "model.layers[0]"
   ]
  },
  {
   "cell_type": "code",
   "execution_count": 17,
   "metadata": {},
   "outputs": [
    {
     "data": {
      "text/plain": [
       "<KerasTensor: shape=(None, 28, 28, 1) dtype=float32 (created by layer 'conv_input')>"
      ]
     },
     "execution_count": 17,
     "metadata": {},
     "output_type": "execute_result"
    }
   ],
   "source": [
    "# 첫번째 레이어 입력\n",
    "model.layers[0].input"
   ]
  },
  {
   "cell_type": "code",
   "execution_count": 18,
   "metadata": {},
   "outputs": [
    {
     "data": {
      "text/plain": [
       "<KerasTensor: shape=(None, 26, 26, 32) dtype=float32 (created by layer 'conv')>"
      ]
     },
     "execution_count": 18,
     "metadata": {},
     "output_type": "execute_result"
    }
   ],
   "source": [
    "# 첫번째 레이어 출력\n",
    "model.layers[0].output"
   ]
  },
  {
   "cell_type": "code",
   "execution_count": 19,
   "metadata": {},
   "outputs": [
    {
     "data": {
      "text/plain": [
       "[<tf.Variable 'conv/kernel:0' shape=(3, 3, 1, 32) dtype=float32, numpy=\n",
       " array([[[[ 0.33937207,  0.38185507, -1.4003682 ,  0.16690941,\n",
       "           -0.21521689, -0.27821952, -0.7155084 , -0.7107104 ,\n",
       "            0.3579432 , -0.61289763,  0.11260737, -0.5921437 ,\n",
       "           -0.5149167 , -0.34190157,  0.19253212, -0.34822857,\n",
       "           -0.7222784 , -0.05705532,  0.09288196, -0.3618541 ,\n",
       "            0.17601082, -1.3859354 , -0.13196962, -0.3151967 ,\n",
       "            0.36967802,  0.44744956, -0.9192482 ,  0.05052628,\n",
       "            0.2525122 ,  0.13616039,  0.3568321 ,  0.20412233]],\n",
       " \n",
       "         [[ 0.3219729 , -0.08259223, -1.0220667 , -0.02463887,\n",
       "           -0.617304  , -0.17257555, -1.27394   ,  0.03117558,\n",
       "           -0.03127552, -0.5029375 , -0.61786073,  0.11013933,\n",
       "            0.27741283,  0.00921672,  0.49309307, -0.36346596,\n",
       "            0.12390508,  0.13515988,  0.2724949 , -0.07851645,\n",
       "            0.5332156 , -0.78543925,  0.00385215,  0.36673722,\n",
       "           -0.07101404, -0.22334872, -0.20113146, -0.606934  ,\n",
       "            0.7006905 ,  0.48682517,  0.20851599,  0.21174338]],\n",
       " \n",
       "         [[-0.0517659 , -0.83586055, -0.68586093, -0.17300491,\n",
       "           -0.9013811 ,  0.20110445, -0.18706182,  0.39864495,\n",
       "            0.3696396 ,  0.37135577, -0.52046597,  0.16959596,\n",
       "            0.29576325,  0.38668376, -0.70692766,  0.02307551,\n",
       "            0.6805428 ,  0.17913279, -0.2953415 ,  0.16664025,\n",
       "            0.5912491 , -1.1211092 , -0.10426295, -0.3064685 ,\n",
       "           -0.04911731, -0.32846096,  0.49786916, -0.76900905,\n",
       "            0.5900686 , -0.2826887 , -0.0827829 , -0.36633286]]],\n",
       " \n",
       " \n",
       "        [[[-0.31566983,  0.6168519 , -0.80027795,  0.26540494,\n",
       "           -0.78865016, -0.01567356, -0.91354287, -0.36236835,\n",
       "           -0.0644829 ,  0.13627726,  0.41417646,  0.31123245,\n",
       "            0.08985607,  0.20920861, -0.04145901,  0.46643534,\n",
       "           -0.9521444 ,  0.34149   , -0.41627514, -0.01440842,\n",
       "           -0.40724742,  0.35992688, -0.1024697 , -0.73166853,\n",
       "            0.11946111,  0.14691524, -0.5664101 ,  0.52922577,\n",
       "           -0.02502882,  0.2782277 , -0.11574897, -0.2424842 ]],\n",
       " \n",
       "         [[ 0.147068  ,  0.009979  ,  0.4721511 ,  0.17665218,\n",
       "           -0.1924056 ,  0.29646355,  0.10364641,  0.31218025,\n",
       "           -0.6625853 ,  0.0757949 , -0.44207633,  0.26153246,\n",
       "            0.32583982,  0.24495059,  0.2830813 ,  0.3158948 ,\n",
       "           -0.08717598,  0.00247843,  0.26762077,  0.3597552 ,\n",
       "            0.21925509,  0.39474356, -0.02124937, -1.0183342 ,\n",
       "           -0.18396659,  0.19214465, -0.04390915,  0.27405304,\n",
       "            0.36742696,  0.3707903 , -0.19524828,  0.08928321]],\n",
       " \n",
       "         [[ 0.07521783, -0.5879774 ,  0.47746256, -0.06633656,\n",
       "           -0.03934168,  0.17077383,  0.61985445,  0.27849573,\n",
       "           -0.06800894, -0.15262638, -0.78790003,  0.0778707 ,\n",
       "           -0.27959293, -0.36083308, -0.24903673,  0.3374662 ,\n",
       "            0.6371933 , -0.49291557,  0.10972511,  0.1859057 ,\n",
       "            0.42476422, -0.5978374 , -0.1311146 , -0.84703976,\n",
       "           -0.2453674 , -0.17948392,  0.5362682 , -0.5741535 ,\n",
       "            0.19770919, -0.69837666, -0.01727978,  0.3481502 ]]],\n",
       " \n",
       " \n",
       "        [[[-0.41726455,  0.10980245, -0.00977957, -0.27077338,\n",
       "            0.3895849 ,  0.22954088, -0.9377466 ,  0.0204204 ,\n",
       "            0.38991848,  0.44037783,  0.6007154 ,  0.25243446,\n",
       "            0.34486264,  0.09285062,  0.09960673, -0.25928995,\n",
       "           -0.28039193,  0.21279736,  0.00288877,  0.27261296,\n",
       "           -1.0273806 ,  0.6647273 , -0.03585701,  0.10575421,\n",
       "           -0.05653295, -0.16733499, -0.8419744 ,  0.43942878,\n",
       "           -1.0506805 ,  0.03038925, -0.04072705, -0.09076003]],\n",
       " \n",
       "         [[ 0.04641702,  0.19918117,  0.60564727, -0.00761482,\n",
       "            0.642977  ,  0.06438164,  0.31795833,  0.32024348,\n",
       "           -0.15334843,  0.34038025,  0.42054075, -0.25510985,\n",
       "           -0.06114598,  0.00662027,  0.17718874,  0.03994391,\n",
       "           -0.16411339, -0.39983281,  0.01012791, -0.00210775,\n",
       "           -0.87218773,  0.49743715, -0.01182327,  0.4836988 ,\n",
       "            0.3030024 ,  0.1972607 , -0.576393  ,  0.50474864,\n",
       "           -1.1203525 ,  0.15171658,  0.17277285,  0.03177669]],\n",
       " \n",
       "         [[ 0.24852264, -0.13169771,  0.39364767,  0.32926872,\n",
       "            0.47684512, -0.45356598,  0.63102037, -0.27291346,\n",
       "            0.40828317, -0.47449958, -0.0398712 , -0.41156828,\n",
       "           -0.5940082 , -0.37585542,  0.15378101, -0.4654809 ,\n",
       "            0.20191182,  0.07542653,  0.07803694, -0.31749603,\n",
       "           -0.7548753 , -0.00372035, -0.07712149, -0.5354123 ,\n",
       "            0.27600783,  0.38288623,  0.32370213,  0.10579871,\n",
       "           -0.8245581 , -1.0452204 ,  0.34446222, -0.00239644]]]],\n",
       "       dtype=float32)>,\n",
       " <tf.Variable 'conv/bias:0' shape=(32,) dtype=float32, numpy=\n",
       " array([-0.33941942, -0.18132931, -0.0553479 , -0.28060845, -0.01328219,\n",
       "        -0.24179423, -0.01337297, -0.15656143, -0.2595828 , -0.00305918,\n",
       "        -0.09113007, -0.15981662, -0.17481849, -0.16601962, -0.38302898,\n",
       "         0.00227986, -0.02985123, -0.24307285, -0.16489562, -0.25750008,\n",
       "        -0.04437247, -0.0120691 , -0.01018807,  0.24568579, -0.3561718 ,\n",
       "        -0.43314606, -0.07787969, -0.11280153, -0.02016799, -0.1019436 ,\n",
       "        -0.29343903, -0.1738207 ], dtype=float32)>]"
      ]
     },
     "execution_count": 19,
     "metadata": {},
     "output_type": "execute_result"
    }
   ],
   "source": [
    "# 첫번째 레이어 가중치\n",
    "model.layers[0].weights"
   ]
  },
  {
   "cell_type": "code",
   "execution_count": 20,
   "metadata": {},
   "outputs": [
    {
     "data": {
      "text/plain": [
       "<tf.Variable 'conv/kernel:0' shape=(3, 3, 1, 32) dtype=float32, numpy=\n",
       "array([[[[ 0.33937207,  0.38185507, -1.4003682 ,  0.16690941,\n",
       "          -0.21521689, -0.27821952, -0.7155084 , -0.7107104 ,\n",
       "           0.3579432 , -0.61289763,  0.11260737, -0.5921437 ,\n",
       "          -0.5149167 , -0.34190157,  0.19253212, -0.34822857,\n",
       "          -0.7222784 , -0.05705532,  0.09288196, -0.3618541 ,\n",
       "           0.17601082, -1.3859354 , -0.13196962, -0.3151967 ,\n",
       "           0.36967802,  0.44744956, -0.9192482 ,  0.05052628,\n",
       "           0.2525122 ,  0.13616039,  0.3568321 ,  0.20412233]],\n",
       "\n",
       "        [[ 0.3219729 , -0.08259223, -1.0220667 , -0.02463887,\n",
       "          -0.617304  , -0.17257555, -1.27394   ,  0.03117558,\n",
       "          -0.03127552, -0.5029375 , -0.61786073,  0.11013933,\n",
       "           0.27741283,  0.00921672,  0.49309307, -0.36346596,\n",
       "           0.12390508,  0.13515988,  0.2724949 , -0.07851645,\n",
       "           0.5332156 , -0.78543925,  0.00385215,  0.36673722,\n",
       "          -0.07101404, -0.22334872, -0.20113146, -0.606934  ,\n",
       "           0.7006905 ,  0.48682517,  0.20851599,  0.21174338]],\n",
       "\n",
       "        [[-0.0517659 , -0.83586055, -0.68586093, -0.17300491,\n",
       "          -0.9013811 ,  0.20110445, -0.18706182,  0.39864495,\n",
       "           0.3696396 ,  0.37135577, -0.52046597,  0.16959596,\n",
       "           0.29576325,  0.38668376, -0.70692766,  0.02307551,\n",
       "           0.6805428 ,  0.17913279, -0.2953415 ,  0.16664025,\n",
       "           0.5912491 , -1.1211092 , -0.10426295, -0.3064685 ,\n",
       "          -0.04911731, -0.32846096,  0.49786916, -0.76900905,\n",
       "           0.5900686 , -0.2826887 , -0.0827829 , -0.36633286]]],\n",
       "\n",
       "\n",
       "       [[[-0.31566983,  0.6168519 , -0.80027795,  0.26540494,\n",
       "          -0.78865016, -0.01567356, -0.91354287, -0.36236835,\n",
       "          -0.0644829 ,  0.13627726,  0.41417646,  0.31123245,\n",
       "           0.08985607,  0.20920861, -0.04145901,  0.46643534,\n",
       "          -0.9521444 ,  0.34149   , -0.41627514, -0.01440842,\n",
       "          -0.40724742,  0.35992688, -0.1024697 , -0.73166853,\n",
       "           0.11946111,  0.14691524, -0.5664101 ,  0.52922577,\n",
       "          -0.02502882,  0.2782277 , -0.11574897, -0.2424842 ]],\n",
       "\n",
       "        [[ 0.147068  ,  0.009979  ,  0.4721511 ,  0.17665218,\n",
       "          -0.1924056 ,  0.29646355,  0.10364641,  0.31218025,\n",
       "          -0.6625853 ,  0.0757949 , -0.44207633,  0.26153246,\n",
       "           0.32583982,  0.24495059,  0.2830813 ,  0.3158948 ,\n",
       "          -0.08717598,  0.00247843,  0.26762077,  0.3597552 ,\n",
       "           0.21925509,  0.39474356, -0.02124937, -1.0183342 ,\n",
       "          -0.18396659,  0.19214465, -0.04390915,  0.27405304,\n",
       "           0.36742696,  0.3707903 , -0.19524828,  0.08928321]],\n",
       "\n",
       "        [[ 0.07521783, -0.5879774 ,  0.47746256, -0.06633656,\n",
       "          -0.03934168,  0.17077383,  0.61985445,  0.27849573,\n",
       "          -0.06800894, -0.15262638, -0.78790003,  0.0778707 ,\n",
       "          -0.27959293, -0.36083308, -0.24903673,  0.3374662 ,\n",
       "           0.6371933 , -0.49291557,  0.10972511,  0.1859057 ,\n",
       "           0.42476422, -0.5978374 , -0.1311146 , -0.84703976,\n",
       "          -0.2453674 , -0.17948392,  0.5362682 , -0.5741535 ,\n",
       "           0.19770919, -0.69837666, -0.01727978,  0.3481502 ]]],\n",
       "\n",
       "\n",
       "       [[[-0.41726455,  0.10980245, -0.00977957, -0.27077338,\n",
       "           0.3895849 ,  0.22954088, -0.9377466 ,  0.0204204 ,\n",
       "           0.38991848,  0.44037783,  0.6007154 ,  0.25243446,\n",
       "           0.34486264,  0.09285062,  0.09960673, -0.25928995,\n",
       "          -0.28039193,  0.21279736,  0.00288877,  0.27261296,\n",
       "          -1.0273806 ,  0.6647273 , -0.03585701,  0.10575421,\n",
       "          -0.05653295, -0.16733499, -0.8419744 ,  0.43942878,\n",
       "          -1.0506805 ,  0.03038925, -0.04072705, -0.09076003]],\n",
       "\n",
       "        [[ 0.04641702,  0.19918117,  0.60564727, -0.00761482,\n",
       "           0.642977  ,  0.06438164,  0.31795833,  0.32024348,\n",
       "          -0.15334843,  0.34038025,  0.42054075, -0.25510985,\n",
       "          -0.06114598,  0.00662027,  0.17718874,  0.03994391,\n",
       "          -0.16411339, -0.39983281,  0.01012791, -0.00210775,\n",
       "          -0.87218773,  0.49743715, -0.01182327,  0.4836988 ,\n",
       "           0.3030024 ,  0.1972607 , -0.576393  ,  0.50474864,\n",
       "          -1.1203525 ,  0.15171658,  0.17277285,  0.03177669]],\n",
       "\n",
       "        [[ 0.24852264, -0.13169771,  0.39364767,  0.32926872,\n",
       "           0.47684512, -0.45356598,  0.63102037, -0.27291346,\n",
       "           0.40828317, -0.47449958, -0.0398712 , -0.41156828,\n",
       "          -0.5940082 , -0.37585542,  0.15378101, -0.4654809 ,\n",
       "           0.20191182,  0.07542653,  0.07803694, -0.31749603,\n",
       "          -0.7548753 , -0.00372035, -0.07712149, -0.5354123 ,\n",
       "           0.27600783,  0.38288623,  0.32370213,  0.10579871,\n",
       "          -0.8245581 , -1.0452204 ,  0.34446222, -0.00239644]]]],\n",
       "      dtype=float32)>"
      ]
     },
     "execution_count": 20,
     "metadata": {},
     "output_type": "execute_result"
    }
   ],
   "source": [
    "# 첫번째 레이어 커널 가중치\n",
    "model.layers[0].kernel"
   ]
  },
  {
   "cell_type": "code",
   "execution_count": 21,
   "metadata": {},
   "outputs": [
    {
     "data": {
      "text/plain": [
       "<tf.Variable 'conv/bias:0' shape=(32,) dtype=float32, numpy=\n",
       "array([-0.33941942, -0.18132931, -0.0553479 , -0.28060845, -0.01328219,\n",
       "       -0.24179423, -0.01337297, -0.15656143, -0.2595828 , -0.00305918,\n",
       "       -0.09113007, -0.15981662, -0.17481849, -0.16601962, -0.38302898,\n",
       "        0.00227986, -0.02985123, -0.24307285, -0.16489562, -0.25750008,\n",
       "       -0.04437247, -0.0120691 , -0.01018807,  0.24568579, -0.3561718 ,\n",
       "       -0.43314606, -0.07787969, -0.11280153, -0.02016799, -0.1019436 ,\n",
       "       -0.29343903, -0.1738207 ], dtype=float32)>"
      ]
     },
     "execution_count": 21,
     "metadata": {},
     "output_type": "execute_result"
    }
   ],
   "source": [
    "# 첫번째 레이어 bias 가중치\n",
    "model.layers[0].bias"
   ]
  },
  {
   "cell_type": "code",
   "execution_count": 22,
   "metadata": {},
   "outputs": [
    {
     "data": {
      "text/plain": [
       "<keras.src.layers.convolutional.conv2d.Conv2D at 0x1b7d5ea4820>"
      ]
     },
     "execution_count": 22,
     "metadata": {},
     "output_type": "execute_result"
    }
   ],
   "source": [
    "# 레이어 이름 사용하여 레이어 선택\n",
    "model.get_layer('conv')"
   ]
  },
  {
   "cell_type": "code",
   "execution_count": 23,
   "metadata": {},
   "outputs": [
    {
     "name": "stdout",
     "output_type": "stream",
     "text": [
      "1/1 [==============================] - 0s 74ms/step\n"
     ]
    },
    {
     "data": {
      "text/plain": [
       "2"
      ]
     },
     "execution_count": 23,
     "metadata": {},
     "output_type": "execute_result"
    }
   ],
   "source": [
    "# 샘플 이미지의 레이어별 출력을 리스트에 추가 (첫번째, 두번째 레이어)\n",
    "activator = tf.keras.Model(inputs=model.input, \n",
    "                           outputs=[layer.output for layer in model.layers[:2]] ) \n",
    "activations = activator.predict(x_train_in[0][tf.newaxis, ...]) \n",
    "\n",
    "len(activations)"
   ]
  },
  {
   "cell_type": "code",
   "execution_count": 24,
   "metadata": {},
   "outputs": [
    {
     "data": {
      "text/plain": [
       "(1, 26, 26, 32)"
      ]
     },
     "execution_count": 24,
     "metadata": {},
     "output_type": "execute_result"
    }
   ],
   "source": [
    "# 첫 번째 레이어(conv) 출력층 \n",
    "conv_activation = activations[0]\n",
    "conv_activation.shape"
   ]
  },
  {
   "cell_type": "code",
   "execution_count": 25,
   "metadata": {},
   "outputs": [
    {
     "data": {
      "image/png": "[encoded data removed]",
      "text/plain": [
       "<Figure size 1000x500 with 32 Axes>"
      ]
     },
     "metadata": {},
     "output_type": "display_data"
    }
   ],
   "source": [
    "# Convolution 시각화\n",
    "fig, axes = plt.subplots(4, 8)\n",
    "fig.set_size_inches(10, 5)\n",
    "\n",
    "for i in range(32):\n",
    "    axes[i//8, i%8].matshow(conv_activation[0, :, :, i], cmap='viridis')\n",
    "    axes[i//8, i%8].set_title('kernel %s'%str(i), fontsize=10)\n",
    "    plt.setp( axes[i//8, i%8].get_xticklabels(), visible=False)\n",
    "    plt.setp( axes[i//8, i%8].get_yticklabels(), visible=False)\n",
    "\n",
    "plt.tight_layout()\n",
    "plt.show()"
   ]
  },
  {
   "cell_type": "code",
   "execution_count": 26,
   "metadata": {},
   "outputs": [
    {
     "name": "stdout",
     "output_type": "stream",
     "text": [
      "(1, 13, 13, 32)\n"
     ]
    }
   ],
   "source": [
    "# 두 번째 레이어(pool) 출력층 \n",
    "pooling_activation = activations[1]\n",
    "print(pooling_activation.shape)"
   ]
  },
  {
   "cell_type": "code",
   "execution_count": 27,
   "metadata": {},
   "outputs": [
    {
     "data": {
      "image/png": "[encoded data removed]",
      "text/plain": [
       "<Figure size 1000x500 with 32 Axes>"
      ]
     },
     "metadata": {},
     "output_type": "display_data"
    }
   ],
   "source": [
    "# 시각화\n",
    "fig, axes = plt.subplots(4, 8)\n",
    "fig.set_size_inches(10, 5)\n",
    "\n",
    "for i in range(32):\n",
    "    axes[i//8, i%8].matshow(pooling_activation[0, :, :, i], cmap='viridis')\n",
    "    axes[i//8, i%8].set_title('kernel %s'%str(i), fontsize=10)\n",
    "    plt.setp( axes[i//8, i%8].get_xticklabels(), visible=False)\n",
    "    plt.setp( axes[i//8, i%8].get_yticklabels(), visible=False)\n",
    "\n",
    "plt.tight_layout()\n",
    "plt.show()"
   ]
  }
 ],
 "metadata": {
  "kernelspec": {
   "display_name": "Python 3",
   "language": "python",
   "name": "python3"
  },
  "language_info": {
   "codemirror_mode": {
    "name": "ipython",
    "version": 3
   },
   "file_extension": ".py",
   "mimetype": "text/x-python",
   "name": "python",
   "nbconvert_exporter": "python",
   "pygments_lexer": "ipython3",
   "version": "3.10.11"
  },
  "orig_nbformat": 4
 },
 "nbformat": 4,
 "nbformat_minor": 2
}
