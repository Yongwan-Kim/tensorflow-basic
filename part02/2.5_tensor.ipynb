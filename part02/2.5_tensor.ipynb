{
 "cells": [
  {
   "cell_type": "code",
   "execution_count": 1,
   "metadata": {},
   "outputs": [
    {
     "name": "stdout",
     "output_type": "stream",
     "text": [
      "rank: tf.Tensor(3, shape=(), dtype=int32)\n",
      "tensor1: tf.Tensor(\n",
      "[[[ 1  2  3  4]\n",
      "  [ 5  6  7  8]]\n",
      "\n",
      " [[ 9 10 11 12]\n",
      "  [13 14 15 16]]\n",
      "\n",
      " [[17 18 19 20]\n",
      "  [21 22 23 24]]], shape=(3, 2, 4), dtype=int32)\n"
     ]
    }
   ],
   "source": [
    "# 라이브러리 불러오기\n",
    "import tensorflow as tf\n",
    "import numpy as np\n",
    "\n",
    "# 2차원 배열 정의\n",
    "mat1 = [[1, 2, 3, 4], \n",
    "        [5, 6, 7, 8]]\n",
    " \n",
    "mat2 = [[9, 10, 11, 12],\n",
    "        [13, 14, 15, 16]]   \n",
    "\n",
    "mat3 = [[17, 18, 19, 20],\n",
    "        [21, 22, 23, 24]]    \n",
    "\n",
    "# 텐서 변환 - constant 함수에 3차원 배열 입력\n",
    "tensor1 = tf.constant([mat1, mat2, mat3])\n",
    "\n",
    "# 랭크 확인\n",
    "print(\"rank:\", tf.rank(tensor1))\n",
    "\n",
    "# 텐서 출력\n",
    "print(\"tensor1:\", tensor1)\n"
   ]
  }
 ],
 "metadata": {
  "kernelspec": {
   "display_name": "Python 3",
   "language": "python",
   "name": "python3"
  },
  "language_info": {
   "codemirror_mode": {
    "name": "ipython",
    "version": 3
   },
   "file_extension": ".py",
   "mimetype": "text/x-python",
   "name": "python",
   "nbconvert_exporter": "python",
   "pygments_lexer": "ipython3",
   "version": "3.13.5"
  },
  "orig_nbformat": 4
 },
 "nbformat": 4,
 "nbformat_minor": 2
}
