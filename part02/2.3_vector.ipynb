{
 "cells": [
  {
   "cell_type": "code",
   "execution_count": 1,
   "metadata": {},
   "outputs": [
    {
     "name": "stdout",
     "output_type": "stream",
     "text": [
      "vec1:  tf.Tensor([10. 20. 30.], shape=(3,), dtype=float32)\n",
      "vec2:  tf.Tensor([10. 10. 10.], shape=(3,), dtype=float32)\n"
     ]
    }
   ],
   "source": [
    "# import\n",
    "import tensorflow as tf\n",
    "import numpy as np\n",
    "\n",
    "# 1차원 배열 정의\n",
    "py_list = [10., 20., 30.]\n",
    "num_arr = np.array([10., 10., 10])\n",
    "\n",
    "# 텐서 변환\n",
    "vec1 = tf.constant(py_list, dtype= tf.float32)\n",
    "vec2 = tf.constant(num_arr, dtype= tf.float32)\n",
    "\n",
    "# 텐서출력\n",
    "print(\"vec1: \", vec1)\n",
    "print(\"vec2: \", vec2)\n",
    "\n"
   ]
  },
  {
   "cell_type": "code",
   "execution_count": 2,
   "metadata": {},
   "outputs": [
    {
     "name": "stdout",
     "output_type": "stream",
     "text": [
      "tf.Tensor(1, shape=(), dtype=int32)\n",
      "tf.Tensor(1, shape=(), dtype=int32)\n"
     ]
    }
   ],
   "source": [
    "# 랭크확인\n",
    "print(tf.rank(vec1))\n",
    "print(tf.rank(vec2))"
   ]
  },
  {
   "cell_type": "code",
   "execution_count": 3,
   "metadata": {},
   "outputs": [
    {
     "name": "stdout",
     "output_type": "stream",
     "text": [
      "result1:  tf.Tensor([20. 30. 40.], shape=(3,), dtype=float32)\n",
      "rank:  tf.Tensor(1, shape=(), dtype=int32)\n"
     ]
    }
   ],
   "source": [
    "# 덧셈 함수\n",
    "add1 = tf.math.add(vec1, vec2)\n",
    "print(\"result1: \", add1)\n",
    "print(\"rank: \", tf.rank(add1))"
   ]
  },
  {
   "cell_type": "code",
   "execution_count": 4,
   "metadata": {},
   "outputs": [
    {
     "name": "stdout",
     "output_type": "stream",
     "text": [
      "result:  tf.Tensor([20. 30. 40.], shape=(3,), dtype=float32)\n",
      "rank:  tf.Tensor(1, shape=(), dtype=int32)\n"
     ]
    }
   ],
   "source": [
    "# 덧셈 연산자\n",
    "add2 = vec1 + vec2\n",
    "print(\"result: \", add2)\n",
    "print(\"rank: \", tf.rank(add2))"
   ]
  },
  {
   "cell_type": "code",
   "execution_count": 5,
   "metadata": {},
   "outputs": [
    {
     "name": "stdout",
     "output_type": "stream",
     "text": [
      "tf.Tensor([ 0. 10. 20.], shape=(3,), dtype=float32)\n",
      "tf.Tensor([100. 200. 300.], shape=(3,), dtype=float32)\n",
      "tf.Tensor([1. 2. 3.], shape=(3,), dtype=float32)\n",
      "tf.Tensor([0. 0. 0.], shape=(3,), dtype=float32)\n",
      "tf.Tensor([1. 2. 3.], shape=(3,), dtype=float32)\n"
     ]
    }
   ],
   "source": [
    "# tf.math 모듈 함수\n",
    "print(tf.math.subtract(vec1, vec2))\n",
    "print(tf.math.multiply(vec1, vec2))\n",
    "print(tf.math.divide(vec1, vec2))\n",
    "print(tf.math.mod(vec1, vec2))\n",
    "print(tf.math.floordiv(vec1, vec2))"
   ]
  },
  {
   "cell_type": "code",
   "execution_count": 6,
   "metadata": {},
   "outputs": [
    {
     "name": "stdout",
     "output_type": "stream",
     "text": [
      "tf.Tensor([ 0. 10. 20.], shape=(3,), dtype=float32)\n",
      "tf.Tensor([100. 200. 300.], shape=(3,), dtype=float32)\n",
      "tf.Tensor([1. 2. 3.], shape=(3,), dtype=float32)\n",
      "tf.Tensor([0. 0. 0.], shape=(3,), dtype=float32)\n",
      "tf.Tensor([1. 2. 3.], shape=(3,), dtype=float32)\n"
     ]
    }
   ],
   "source": [
    "# 파이썬 연산자\n",
    "print(vec1 - vec2)\n",
    "print(vec1 * vec2)\n",
    "print(vec1 / vec2)\n",
    "print(vec1 % vec2)\n",
    "print(vec1 // vec2)"
   ]
  },
  {
   "cell_type": "code",
   "execution_count": 7,
   "metadata": {},
   "outputs": [
    {
     "name": "stdout",
     "output_type": "stream",
     "text": [
      "tf.Tensor(60.0, shape=(), dtype=float32)\n",
      "tf.Tensor(30.0, shape=(), dtype=float32)\n"
     ]
    }
   ],
   "source": [
    "# 합계 구하기\n",
    "print ( tf.reduce_sum(vec1) )\n",
    "print ( tf.reduce_sum(vec2) )"
   ]
  },
  {
   "cell_type": "code",
   "execution_count": 8,
   "metadata": {},
   "outputs": [
    {
     "name": "stdout",
     "output_type": "stream",
     "text": [
      "tf.Tensor([100. 400. 900.], shape=(3,), dtype=float32)\n"
     ]
    }
   ],
   "source": [
    "# 거듭 제곱\n",
    "print(tf.math.square(vec1))"
   ]
  },
  {
   "cell_type": "code",
   "execution_count": 9,
   "metadata": {},
   "outputs": [
    {
     "name": "stdout",
     "output_type": "stream",
     "text": [
      "tf.Tensor([100. 400. 900.], shape=(3,), dtype=float32)\n"
     ]
    }
   ],
   "source": [
    "# 거듭 제곱 (파이선 연산자)\n",
    "print(vec1**2)"
   ]
  },
  {
   "cell_type": "code",
   "execution_count": 10,
   "metadata": {},
   "outputs": [
    {
     "name": "stdout",
     "output_type": "stream",
     "text": [
      "tf.Tensor([3.1622777 3.1622777 3.1622777], shape=(3,), dtype=float32)\n"
     ]
    }
   ],
   "source": [
    "# 제곱근\n",
    "print(tf.math.sqrt(vec2))"
   ]
  },
  {
   "cell_type": "code",
   "execution_count": 11,
   "metadata": {},
   "outputs": [
    {
     "name": "stdout",
     "output_type": "stream",
     "text": [
      "tf.Tensor([3.1622777 3.1622777 3.1622777], shape=(3,), dtype=float32)\n"
     ]
    }
   ],
   "source": [
    "# 제곱근 (파이선 연산자)\n",
    "print(vec2**0.5)"
   ]
  },
  {
   "cell_type": "code",
   "execution_count": 12,
   "metadata": {},
   "outputs": [
    {
     "name": "stdout",
     "output_type": "stream",
     "text": [
      "tf.Tensor([11. 21. 31.], shape=(3,), dtype=float32)\n"
     ]
    }
   ],
   "source": [
    "# 브로드 케스팅 연산\n",
    "print(vec1 + 1)"
   ]
  },
  {
   "cell_type": "code",
   "execution_count": null,
   "metadata": {},
   "outputs": [],
   "source": []
  }
 ],
 "metadata": {
  "kernelspec": {
   "display_name": "Python 3",
   "language": "python",
   "name": "python3"
  },
  "language_info": {
   "codemirror_mode": {
    "name": "ipython",
    "version": 3
   },
   "file_extension": ".py",
   "mimetype": "text/x-python",
   "name": "python",
   "nbconvert_exporter": "python",
   "pygments_lexer": "ipython3",
   "version": "3.10.11"
  },
  "orig_nbformat": 4
 },
 "nbformat": 4,
 "nbformat_minor": 2
}
