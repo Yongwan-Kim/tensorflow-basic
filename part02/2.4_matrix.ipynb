{
 "cells": [
  {
   "attachments": {},
   "cell_type": "markdown",
   "metadata": {},
   "source": [
    "[구글 코랩(Colab)에서 실행하기](https://colab.research.google.com/github/lovedlim/tensorflow/blob/main/Part%202/2.4_matrix.ipynb)"
   ]
  },
  {
   "cell_type": "code",
   "execution_count": 1,
   "metadata": {},
   "outputs": [
    {
     "name": "stdout",
     "output_type": "stream",
     "text": [
      "rank: tf.Tensor(2, shape=(), dtype=int32)\n",
      "mat1: tf.Tensor(\n",
      "[[10 20]\n",
      " [30 40]], shape=(2, 2), dtype=int32)\n"
     ]
    }
   ],
   "source": [
    "# 라이브러리 불러오기\n",
    "import tensorflow as tf\n",
    "\n",
    "# 2차원 배열 정의\n",
    "list_of_list = [[10, 20], [30, 40]] \n",
    "\n",
    "# 텐서 변환 - constant 함수에 2차원 배열 입력\n",
    "mat1 = tf.constant(list_of_list)\n",
    "\n",
    "# 랭크 확인\n",
    "print(\"rank:\", tf.rank(mat1))\n",
    "\n",
    "# 텐서 출력\n",
    "print(\"mat1:\", mat1)"
   ]
  },
  {
   "cell_type": "code",
   "execution_count": 2,
   "metadata": {},
   "outputs": [
    {
     "name": "stdout",
     "output_type": "stream",
     "text": [
      "rank: tf.Tensor(2, shape=(), dtype=int32)\n",
      "mat2: tf.Tensor(\n",
      "[[ 1  0]\n",
      " [-1  2]], shape=(2, 2), dtype=int32)\n"
     ]
    }
   ],
   "source": [
    "# 1차원 벡터 정의\n",
    "vec1 = tf.constant([1, 0])\n",
    "vec2 = tf.constant([-1, 2])\n",
    "                   \n",
    "# 텐서 변환 - stack 함수로 1차원 배열을 위아래로 쌓기\n",
    "mat2 = tf.stack([vec1, vec2])\n",
    "\n",
    "# 랭크 확인\n",
    "print(\"rank:\", tf.rank(mat2))\n",
    "\n",
    "# 텐서 출력하기\n",
    "print(\"mat2:\", mat2)"
   ]
  },
  {
   "cell_type": "code",
   "execution_count": 3,
   "metadata": {},
   "outputs": [
    {
     "name": "stdout",
     "output_type": "stream",
     "text": [
      "result: tf.Tensor(\n",
      "[[ 10   0]\n",
      " [-30  80]], shape=(2, 2), dtype=int32)\n",
      "rank: tf.Tensor(2, shape=(), dtype=int32)\n"
     ]
    }
   ],
   "source": [
    "# element-by-element 연산\n",
    "element_mul = tf.math.multiply(mat1, mat2)\n",
    "print(\"result:\", element_mul)\n",
    "print(\"rank:\", tf.rank(element_mul))"
   ]
  },
  {
   "cell_type": "code",
   "execution_count": 4,
   "metadata": {},
   "outputs": [
    {
     "name": "stdout",
     "output_type": "stream",
     "text": [
      "result: tf.Tensor(\n",
      "[[ 30  60]\n",
      " [ 90 120]], shape=(2, 2), dtype=int32)\n",
      "rank: tf.Tensor(2, shape=(), dtype=int32)\n"
     ]
    }
   ],
   "source": [
    "# 브로드캐스팅 연산\n",
    "element_bc = tf.math.multiply(mat1, 3)\n",
    "print(\"result:\", element_bc)\n",
    "print(\"rank:\", tf.rank(element_bc))"
   ]
  },
  {
   "cell_type": "code",
   "execution_count": 5,
   "metadata": {},
   "outputs": [
    {
     "name": "stdout",
     "output_type": "stream",
     "text": [
      "result: tf.Tensor(\n",
      "[[-10  40]\n",
      " [-10  80]], shape=(2, 2), dtype=int32)\n",
      "rank: tf.Tensor(2, shape=(), dtype=int32)\n"
     ]
    }
   ],
   "source": [
    "# 행렬곱 연산\n",
    "mat_mul = tf.matmul(mat1, mat2)\n",
    "print(\"result:\", mat_mul)\n",
    "print(\"rank:\", tf.rank(mat_mul))"
   ]
  },
  {
   "cell_type": "code",
   "execution_count": 6,
   "metadata": {},
   "outputs": [
    {
     "name": "stdout",
     "output_type": "stream",
     "text": [
      "result: tf.Tensor(\n",
      "[[11 20]\n",
      " [29 42]], shape=(2, 2), dtype=int32)\n",
      "rank: tf.Tensor(2, shape=(), dtype=int32)\n"
     ]
    }
   ],
   "source": [
    "# 덧셈 연산\n",
    "add1 = tf.math.add(mat1, mat2)\n",
    "print(\"result:\", add1)\n",
    "print(\"rank:\", tf.rank(add1))"
   ]
  },
  {
   "cell_type": "code",
   "execution_count": 7,
   "metadata": {},
   "outputs": [
    {
     "name": "stdout",
     "output_type": "stream",
     "text": [
      "result: tf.Tensor(\n",
      "[[11 20]\n",
      " [29 42]], shape=(2, 2), dtype=int32)\n",
      "rank: tf.Tensor(2, shape=(), dtype=int32)\n"
     ]
    }
   ],
   "source": [
    "# 덧셈 연산자\n",
    "add2 = mat1 + mat2\n",
    "print(\"result:\", add2)\n",
    "print(\"rank:\", tf.rank(add2))"
   ]
  },
  {
   "cell_type": "code",
   "execution_count": 8,
   "metadata": {},
   "outputs": [
    {
     "name": "stdout",
     "output_type": "stream",
     "text": [
      "<class 'numpy.ndarray'>\n",
      "[[-10  40]\n",
      " [-10  80]]\n"
     ]
    }
   ],
   "source": [
    "# 텐서를 넘파이로 변환\n",
    "np_arr = mat_mul.numpy()\n",
    "print(type(np_arr))\n",
    "print(np_arr)"
   ]
  }
 ],
 "metadata": {
  "kernelspec": {
   "display_name": "Python 3",
   "language": "python",
   "name": "python3"
  },
  "language_info": {
   "codemirror_mode": {
    "name": "ipython",
    "version": 3
   },
   "file_extension": ".py",
   "mimetype": "text/x-python",
   "name": "python",
   "nbconvert_exporter": "python",
   "pygments_lexer": "ipython3",
   "version": "3.10.11"
  },
  "orig_nbformat": 4
 },
 "nbformat": 4,
 "nbformat_minor": 2
}
