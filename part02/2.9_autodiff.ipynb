{
 "cells": [
  {
   "attachments": {},
   "cell_type": "markdown",
   "metadata": {},
   "source": [
    "[구글 코랩(Colab)에서 실행하기](https://colab.research.google.com/github/lovedlim/tensorflow/blob/main/Part%202/2.9_autodiff.ipynb)"
   ]
  },
  {
   "cell_type": "code",
   "execution_count": 1,
   "metadata": {},
   "outputs": [
    {
     "name": "stdout",
     "output_type": "stream",
     "text": [
      "X:  [-0.20943771  1.2746525   1.213214   -0.17576952  1.876984    0.16379918\n",
      "  1.082245    0.6199966  -0.44402212  1.3048344 ]\n",
      "Y:  [-2.628313    1.8239574   1.6396422  -2.5273085   3.630952   -1.5086024\n",
      "  1.2467351  -0.14001012 -3.3320663   1.9145031 ]\n"
     ]
    }
   ],
   "source": [
    "# 라이브러리 불러오기\n",
    "import tensorflow as tf\n",
    "\n",
    "# Y= 3X - 2 선형 관계를 갖는 데이터셋 생성\n",
    "g = tf.random.Generator.from_seed(2020)\n",
    "X = g.normal(shape=(10,))\n",
    "Y = 3 * X - 2\n",
    "\n",
    "print(\"X: \", X.numpy())\n",
    "print(\"Y: \", Y.numpy())"
   ]
  },
  {
   "cell_type": "code",
   "execution_count": 3,
   "metadata": {},
   "outputs": [],
   "source": [
    "# Loss 함수 정의 \n",
    "def cal_mse(X, Y, a, b):\n",
    "    Y_pred = a * X + b\n",
    "    squared_error = (Y_pred - Y) ** 2\n",
    "    mean_squared_error = tf.reduce_mean(squared_error)\n",
    "\n",
    "    return mean_squared_error"
   ]
  },
  {
   "cell_type": "code",
   "execution_count": 4,
   "metadata": {},
   "outputs": [
    {
     "name": "stdout",
     "output_type": "stream",
     "text": [
      "EPOCH 20 - MSE: 1.1415 --- a: 1.74 --- b: -0.75\n",
      "EPOCH 40 - MSE: 0.2881 --- a: 2.37 --- b: -1.37\n",
      "EPOCH 60 - MSE: 0.0728 --- a: 2.69 --- b: -1.68\n",
      "EPOCH 80 - MSE: 0.0184 --- a: 2.84 --- b: -1.84\n",
      "EPOCH 100 - MSE: 0.0046 --- a: 2.92 --- b: -1.92\n",
      "EPOCH 120 - MSE: 0.0012 --- a: 2.96 --- b: -1.96\n",
      "EPOCH 140 - MSE: 0.0003 --- a: 2.98 --- b: -1.98\n",
      "EPOCH 160 - MSE: 0.0001 --- a: 2.99 --- b: -1.99\n",
      "EPOCH 180 - MSE: 0.0000 --- a: 2.99 --- b: -1.99\n",
      "EPOCH 200 - MSE: 0.0000 --- a: 3.00 --- b: -2.00\n"
     ]
    }
   ],
   "source": [
    "# tf.GradientTape로 자동 미분 과정을 기록\n",
    "\n",
    "a = tf.Variable(0.0)\n",
    "b = tf.Variable(0.0)\n",
    "\n",
    "EPOCHS = 200\n",
    "\n",
    "for epoch in range(1, EPOCHS + 1):\n",
    "    with tf.GradientTape() as tape:\n",
    "        mse = cal_mse(X, Y, a, b)\n",
    "\n",
    "    grad = tape.gradient(mse, {'a': a, 'b': b})\n",
    "    d_a, d_b = grad['a'], grad['b']\n",
    "\n",
    "    a.assign_sub(d_a * 0.05)\n",
    "    b.assign_sub(d_b * 0.05)\n",
    "\n",
    "    if epoch % 20 == 0:\n",
    "        print(\"EPOCH %d - MSE: %.4f --- a: %.2f --- b: %.2f\" % (epoch, mse, a, b))"
   ]
  }
 ],
 "metadata": {
  "kernelspec": {
   "display_name": "Python 3",
   "language": "python",
   "name": "python3"
  },
  "language_info": {
   "codemirror_mode": {
    "name": "ipython",
    "version": 3
   },
   "file_extension": ".py",
   "mimetype": "text/x-python",
   "name": "python",
   "nbconvert_exporter": "python",
   "pygments_lexer": "ipython3",
   "version": "3.10.11"
  },
  "orig_nbformat": 4
 },
 "nbformat": 4,
 "nbformat_minor": 2
}
