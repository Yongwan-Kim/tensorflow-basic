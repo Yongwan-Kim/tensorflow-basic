{
 "cells": [
  {
   "attachments": {},
   "cell_type": "markdown",
   "metadata": {},
   "source": [
    "[구글 코랩(Colab)에서 실행하기](https://colab.research.google.com/github/lovedlim/tensorflow/blob/main/Part%203/3.8_custom_loss.ipynb)"
   ]
  },
  {
   "attachments": {},
   "cell_type": "markdown",
   "metadata": {},
   "source": [
    "![Huber Loss](https://qph.fs.quoracdn.net/main-qimg-b8c611a9fbd3d8667d27ff902556460b)"
   ]
  },
  {
   "cell_type": "code",
   "execution_count": 1,
   "metadata": {},
   "outputs": [
    {
     "name": "stdout",
     "output_type": "stream",
     "text": [
      "1/1 [==============================] - 0s 56ms/step\n",
      "[[14.069706]]\n"
     ]
    }
   ],
   "source": [
    "'''\n",
    "import tensorflow as tf\n",
    "import numpy as np\n",
    "\n",
    "# 샘플 데이터 생성\n",
    "X = np.array([0.0, 1.0, 2.0, 3.0, 4.0, 5.0], dtype=float)\n",
    "Y = np.array([2.0, 4.0, 6.0, 8.0, 10.0, 12.0], dtype=float)\n",
    "\n",
    "model = tf.keras.Sequential([\n",
    "    tf.keras.layers.Dense(units=1, input_shape=[1])\n",
    "])\n",
    "\n",
    "# 사용자 정의 손실함수(Huber Loss 구현)\n",
    "def custom_huber_loss(y_true, y_pred):\n",
    "    # 임계값 정의\n",
    "    threshold = 1\n",
    "    # 손실 계산\n",
    "    error = y_true - y_pred\n",
    "    \n",
    "    small = tf.abs(error) <= threshold\n",
    "    \n",
    "    # l2 loss 적용\n",
    "    small_error = tf.square(error) / 2\n",
    "    \n",
    "    # l1 loss 적용\n",
    "    big_error = threshold * (tf.abs(error) - (threshold / 2))\n",
    "    \n",
    "    # return\n",
    "    return tf.where(small, small_error, big_error)\n",
    "\n",
    "# 사용자 정의 custom_huber_loss 함수를 적용\n",
    "model.compile(optimizer='sgd', loss=custom_huber_loss)\n",
    "model.fit(X, Y, epochs=1000,verbose=0)\n",
    "\n",
    "# 결과 확인\n",
    "print(model.predict([6.0]))\n",
    "'''\n",
    "\n",
    "import tensorflow as tf\n",
    "import numpy as np\n",
    "\n",
    "# 샘플 데이터\n",
    "X = np.array([0.0, 1.0, 2.0, 3.0, 4.0, 5.0], dtype=float)\n",
    "Y = np.array([2.0, 4.0, 6.0, 8.0, 10.0, 12.0], dtype=float)\n",
    "\n",
    "# 모델 정의\n",
    "model = tf.keras.Sequential([\n",
    "    tf.keras.Input(shape=(1,)),  # 권장 Input layer 사용\n",
    "    tf.keras.layers.Dense(units=1)\n",
    "])\n",
    "\n",
    "# 사용자 정의 Huber Loss\n",
    "def custom_huber_loss(y_true, y_pred):\n",
    "    threshold = 1.0\n",
    "    error = y_true - y_pred\n",
    "    is_small_error = tf.abs(error) <= threshold\n",
    "    small_error_loss = 0.5 * tf.square(error)\n",
    "    big_error_loss = threshold * (tf.abs(error) - 0.5 * threshold)\n",
    "    return tf.where(is_small_error, small_error_loss, big_error_loss)\n",
    "\n",
    "# 컴파일 및 훈련\n",
    "model.compile(optimizer='sgd', loss=custom_huber_loss)\n",
    "model.fit(X, Y, epochs=1000, verbose=0)\n",
    "\n",
    "# 예측\n",
    "result = model.predict(np.array([[6.0]]))\n",
    "print(result)"
   ]
  }
 ],
 "metadata": {
  "kernelspec": {
   "display_name": "Python 3",
   "language": "python",
   "name": "python3"
  },
  "language_info": {
   "codemirror_mode": {
    "name": "ipython",
    "version": 3
   },
   "file_extension": ".py",
   "mimetype": "text/x-python",
   "name": "python",
   "nbconvert_exporter": "python",
   "pygments_lexer": "ipython3",
   "version": "3.10.11"
  },
  "orig_nbformat": 4
 },
 "nbformat": 4,
 "nbformat_minor": 2
}
