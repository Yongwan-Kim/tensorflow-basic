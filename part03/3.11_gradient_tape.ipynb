{
 "cells": [
  {
   "attachments": {},
   "cell_type": "markdown",
   "metadata": {},
   "source": [
    "[구글 코랩(Colab)에서 실행하기](https://colab.research.google.com/github/lovedlim/tensorflow/blob/main/Part%203/3.11_gradient_tape.ipynb)"
   ]
  },
  {
   "attachments": {},
   "cell_type": "markdown",
   "metadata": {},
   "source": [
    "## 8-3-2. 자동미분"
   ]
  },
  {
   "cell_type": "code",
   "execution_count": 3,
   "metadata": {},
   "outputs": [
    {
     "name": "stdout",
     "output_type": "stream",
     "text": [
      "a.trainable: True\n",
      "b.trainable: True\n"
     ]
    }
   ],
   "source": [
    "import numpy as np\n",
    "import matplotlib.pyplot as plt\n",
    "import tensorflow as tf\n",
    "\n",
    "# a, b의 Variable 를 생성\n",
    "a = tf.Variable([1, 2, 3, 4, 5], dtype=tf.float32)\n",
    "b = tf.Variable([10, 20, 30, 40, 50], dtype=tf.float32)\n",
    "\n",
    "# 미분 계산을 위해서 a, b가 미분 가능한 객체인지 확인\n",
    "print(f'a.trainable: {a.trainable}\\nb.trainable: {b.trainable}')"
   ]
  },
  {
   "cell_type": "code",
   "execution_count": 4,
   "metadata": {},
   "outputs": [
    {
     "name": "stdout",
     "output_type": "stream",
     "text": [
      "dc/da: [10. 20. 30. 40. 50.]\n",
      "dc/db: [1. 2. 3. 4. 5.]\n"
     ]
    }
   ],
   "source": [
    "# c = a * b\n",
    "# c를 a 대한 편미분 => b\n",
    "# c를 b 대한 편미분 => c\n",
    "with tf.GradientTape() as tape:\n",
    "    c = a * b\n",
    "grads = tape.gradient(c, [a, b])\n",
    "tf.print(f'dc/da: {grads[0]}')\n",
    "tf.print(f'dc/db: {grads[1]}')"
   ]
  },
  {
   "attachments": {},
   "cell_type": "markdown",
   "metadata": {},
   "source": [
    "## 단순선형회귀"
   ]
  },
  {
   "cell_type": "code",
   "execution_count": 5,
   "metadata": {},
   "outputs": [
    {
     "name": "stdout",
     "output_type": "stream",
     "text": [
      "x[:5]: [-0.7965932  -2.7633796   2.2447126   1.771155    0.47899735]\n",
      "y[:5]: [ 1.4068136 -2.5267591  7.489425   6.5423098  3.9579947]\n"
     ]
    }
   ],
   "source": [
    "x = tf.Variable(np.random.normal(size=(100, )), dtype=tf.float32)\n",
    "y = 2*x + 3\n",
    "print(f'x[:5]: {x[:5].numpy()}\\ny[:5]: {y[:5].numpy()}')"
   ]
  },
  {
   "cell_type": "code",
   "execution_count": 8,
   "metadata": {},
   "outputs": [
    {
     "data": {
      "image/png": "[encoded data removed]",
      "text/plain": [
       "<Figure size 600x400 with 1 Axes>"
      ]
     },
     "metadata": {},
     "output_type": "display_data"
    }
   ],
   "source": [
    "fig, ax = plt.subplots(figsize=(6, 4))\n",
    "ax.plot(x.numpy(), y.numpy())\n",
    "ax.grid()\n",
    "plt.show()"
   ]
  },
  {
   "cell_type": "code",
   "execution_count": 9,
   "metadata": {},
   "outputs": [
    {
     "name": "stdout",
     "output_type": "stream",
     "text": [
      "epoch: 0, loss: 13.2379, w: 1.0679, b: 1.4944\n",
      "epoch: 1, loss: 3.1862, w: 1.5653, b: 2.2446\n",
      "epoch: 2, loss: 0.7704, w: 1.7971, b: 2.6211\n",
      "epoch: 3, loss: 0.1870, w: 1.9052, b: 2.8100\n",
      "epoch: 4, loss: 0.0456, w: 1.9557, b: 2.9047\n",
      "epoch: 5, loss: 0.0111, w: 1.9793, b: 2.9522\n",
      "epoch: 6, loss: 0.0027, w: 1.9903, b: 2.9761\n",
      "epoch: 7, loss: 0.0007, w: 1.9954, b: 2.9880\n",
      "epoch: 8, loss: 0.0002, w: 1.9979, b: 2.9940\n"
     ]
    }
   ],
   "source": [
    "# 학습률, 최대 Epoch 정의\n",
    "learning_rate = 0.25\n",
    "EPOCHS = 100\n",
    "\n",
    "# w, b 초기값을 0.0으로 설정. float 타입을 가져야 한다.\n",
    "w = tf.Variable(0.0)\n",
    "b = tf.Variable(0.0)\n",
    "\n",
    "for epoch in range(EPOCHS):\n",
    "    with tf.GradientTape() as tape:\n",
    "        # y_hat(예측 값)\n",
    "        y_hat = w*x + b\n",
    "        # 손실 계산(MSE)\n",
    "        loss = tf.reduce_mean((y_hat - y)**2)\n",
    "    \n",
    "    # 그라디언트 계산\n",
    "    dw, db = tape.gradient(loss, [w, b])\n",
    "\n",
    "    # 그라이언트 업데이트\n",
    "    w = tf.Variable(w - learning_rate * dw)\n",
    "    b = tf.Variable(b - learning_rate * db)\n",
    "\n",
    "    print(f'epoch: {epoch}, loss: {loss.numpy():.4f}, w: {w.numpy():.4f}, b: {b.numpy():.4f}')\n",
    "\n",
    "    # Error가 0.0005보다 작으면 루프 종료\n",
    "    if loss.numpy() < 0.0005:\n",
    "        break"
   ]
  }
 ],
 "metadata": {
  "kernelspec": {
   "display_name": "Python 3",
   "language": "python",
   "name": "python3"
  },
  "language_info": {
   "codemirror_mode": {
    "name": "ipython",
    "version": 3
   },
   "file_extension": ".py",
   "mimetype": "text/x-python",
   "name": "python",
   "nbconvert_exporter": "python",
   "pygments_lexer": "ipython3",
   "version": "3.13.5"
  },
  "orig_nbformat": 4
 },
 "nbformat": 4,
 "nbformat_minor": 2
}
