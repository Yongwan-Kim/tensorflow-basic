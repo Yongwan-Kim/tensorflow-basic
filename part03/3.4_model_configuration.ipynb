{
 "cells": [
  {
   "attachments": {},
   "cell_type": "markdown",
   "metadata": {},
   "source": [
    "[구글 코랩(Colab)에서 실행하기](https://colab.research.google.com/github/lovedlim/tensorflow/blob/main/Part%203/3.4_model_configuration.ipynb)"
   ]
  },
  {
   "cell_type": "code",
   "execution_count": null,
   "metadata": {},
   "outputs": [],
   "source": [
    "'''\n",
    "import tensorflow as tf\n",
    "\n",
    "# 케라스의 내장 데이터셋에서 mnist 데이터셋을 로드\n",
    "mnist = tf.keras.datasets.mnist\n",
    "\n",
    "# load_data()로 데이터셋을 로드 합니다.\n",
    "(x_train, y_train), (x_test, y_test) = mnist.load_data()\n",
    "\n",
    "# 로드된 데이터셋 확인\n",
    "print('train set: ', x_train.shape, y_train.shape)\n",
    "print('test  set: ', x_test.shape, y_test.shape)\n",
    "\n",
    "# 데이터 정규화\n",
    "x_train = x_train / x_train.max() # max: 255\n",
    "x_test = x_test / x_test.max() # max: 255\n",
    "'''"
   ]
  },
  {
   "cell_type": "code",
   "execution_count": 1,
   "metadata": {},
   "outputs": [
    {
     "name": "stdout",
     "output_type": "stream",
     "text": [
      "train set:  (60000, 28, 28) (60000,)\n",
      "test  set:  (10000, 28, 28) (10000,)\n"
     ]
    }
   ],
   "source": [
    "import numpy as np\n",
    "import tensorflow as tf\n",
    "\n",
    "# 파일 경로 설정 (환경에 맞게 수정하세요)\n",
    "mnist_path = '../dataset/mnist/mnist.npz'  # 윈도우 예시\n",
    "#mnist_path = 'D:/datasets/mnist.npz'  # 윈도우 예시\n",
    "# mnist_path = '/home/user/datasets/mnist.npz'  # 리눅스 예시\n",
    "\n",
    "# npz 파일 직접 로드\n",
    "with np.load(mnist_path) as data:\n",
    "    x_train = data['x_train']\n",
    "    y_train = data['y_train']\n",
    "    x_test = data['x_test']\n",
    "    y_test = data['y_test']\n",
    "\n",
    "# 데이터 확인\n",
    "print('train set: ', x_train.shape, y_train.shape)\n",
    "print('test  set: ', x_test.shape, y_test.shape)\n",
    "\n",
    "# 정규화\n",
    "x_train = x_train / x_train.max()\n",
    "x_test = x_test / x_test.max()"
   ]
  },
  {
   "cell_type": "code",
   "execution_count": 2,
   "metadata": {},
   "outputs": [
    {
     "name": "stdout",
     "output_type": "stream",
     "text": [
      "x_train[0, 10:15, 10:15] = array([[0.00392157, 0.60392157, 0.99215686, 0.35294118, 0.        ],\n",
      "       [0.        , 0.54509804, 0.99215686, 0.74509804, 0.00784314],\n",
      "       [0.        , 0.04313725, 0.74509804, 0.99215686, 0.2745098 ],\n",
      "       [0.        , 0.        , 0.1372549 , 0.94509804, 0.88235294],\n",
      "       [0.        , 0.        , 0.        , 0.31764706, 0.94117647]])\n",
      "x_test[0, 10:15, 10:15] = array([[0.        , 0.06666667, 0.25882353, 0.05490196, 0.2627451 ],\n",
      "       [0.        , 0.        , 0.        , 0.        , 0.        ],\n",
      "       [0.        , 0.        , 0.        , 0.        , 0.        ],\n",
      "       [0.        , 0.        , 0.        , 0.        , 0.        ],\n",
      "       [0.        , 0.        , 0.        , 0.        , 0.        ]])\n"
     ]
    }
   ],
   "source": [
    "print(\"x_train[0, 10:15, 10:15] = \" + repr(x_train[0, 10:15, 10:15]))\n",
    "print(\"x_test[0, 10:15, 10:15] = \" + repr(x_test[0, 10:15, 10:15]))\n"
   ]
  },
  {
   "attachments": {},
   "cell_type": "markdown",
   "metadata": {},
   "source": [
    "## 4-1. 초기화"
   ]
  },
  {
   "cell_type": "code",
   "execution_count": 3,
   "metadata": {},
   "outputs": [
    {
     "data": {
      "text/plain": [
       "{'module': 'keras.initializers',\n",
       " 'class_name': 'GlorotUniform',\n",
       " 'config': {'seed': None},\n",
       " 'registered_name': None}"
      ]
     },
     "execution_count": 3,
     "metadata": {},
     "output_type": "execute_result"
    }
   ],
   "source": [
    "dense = tf.keras.layers.Dense(256, activation='relu')\n",
    "dense.get_config()['kernel_initializer']"
   ]
  },
  {
   "cell_type": "code",
   "execution_count": 4,
   "metadata": {},
   "outputs": [
    {
     "data": {
      "text/plain": [
       "{'module': 'keras.initializers',\n",
       " 'class_name': 'HeNormal',\n",
       " 'config': {'seed': None},\n",
       " 'registered_name': None}"
      ]
     },
     "execution_count": 4,
     "metadata": {},
     "output_type": "execute_result"
    }
   ],
   "source": [
    "# he normal 초기화\n",
    "dense = tf.keras.layers.Dense(256, kernel_initializer='he_normal', activation='relu')\n",
    "dense.get_config()['kernel_initializer']"
   ]
  },
  {
   "cell_type": "code",
   "execution_count": 5,
   "metadata": {},
   "outputs": [
    {
     "data": {
      "text/plain": [
       "{'module': 'keras.initializers',\n",
       " 'class_name': 'HeNormal',\n",
       " 'config': {'seed': None},\n",
       " 'registered_name': None}"
      ]
     },
     "execution_count": 5,
     "metadata": {},
     "output_type": "execute_result"
    }
   ],
   "source": [
    "# 클래스 인스턴스 초기화\n",
    "he_normal = tf.keras.initializers.HeNormal()\n",
    "dense = tf.keras.layers.Dense(256, kernel_initializer=he_normal, activation='relu')\n",
    "dense.get_config()['kernel_initializer']"
   ]
  },
  {
   "attachments": {},
   "cell_type": "markdown",
   "metadata": {},
   "source": [
    "## 4-2. 규제"
   ]
  },
  {
   "cell_type": "code",
   "execution_count": 6,
   "metadata": {},
   "outputs": [
    {
     "data": {
      "text/plain": [
       "{'name': 'dense_3',\n",
       " 'trainable': True,\n",
       " 'dtype': 'float32',\n",
       " 'units': 256,\n",
       " 'activation': 'relu',\n",
       " 'use_bias': True,\n",
       " 'kernel_initializer': {'module': 'keras.initializers',\n",
       "  'class_name': 'GlorotUniform',\n",
       "  'config': {'seed': None},\n",
       "  'registered_name': None},\n",
       " 'bias_initializer': {'module': 'keras.initializers',\n",
       "  'class_name': 'Zeros',\n",
       "  'config': {},\n",
       "  'registered_name': None},\n",
       " 'kernel_regularizer': None,\n",
       " 'bias_regularizer': None,\n",
       " 'activity_regularizer': None,\n",
       " 'kernel_constraint': None,\n",
       " 'bias_constraint': None}"
      ]
     },
     "execution_count": 6,
     "metadata": {},
     "output_type": "execute_result"
    }
   ],
   "source": [
    "# 기본값\n",
    "dense = tf.keras.layers.Dense(256, activation = 'relu')\n",
    "dense.get_config()"
   ]
  },
  {
   "cell_type": "code",
   "execution_count": 7,
   "metadata": {},
   "outputs": [
    {
     "name": "stdout",
     "output_type": "stream",
     "text": [
      "{'module': 'keras.regularizers', 'class_name': 'L1', 'config': {'l1': 0.009999999776482582}, 'registered_name': None}\n",
      "{'module': 'keras.regularizers', 'class_name': 'L1', 'config': {'l1': 0.10000000149011612}, 'registered_name': None}\n"
     ]
    }
   ],
   "source": [
    "# l1 규제 적용\n",
    "dense = tf.keras.layers.Dense(256, kernel_regularizer='l1', activation='relu')\n",
    "print(dense.get_config()['kernel_regularizer'])\n",
    "\n",
    "# 클래스 인스턴스 적용, alpha = 0.1 값 변경\n",
    "regularizer = tf.keras.regularizers.l1(l1=0.1)\n",
    "dense = tf.keras.layers.Dense(256, kernel_regularizer=regularizer, activation='relu')\n",
    "print(dense.get_config()['kernel_regularizer'])"
   ]
  },
  {
   "attachments": {},
   "cell_type": "markdown",
   "metadata": {},
   "source": [
    "## 4-3. 드랍아웃"
   ]
  },
  {
   "cell_type": "code",
   "execution_count": 8,
   "metadata": {},
   "outputs": [
    {
     "data": {
      "text/plain": [
       "<keras.src.layers.regularization.dropout.Dropout at 0x1de590ff7f0>"
      ]
     },
     "execution_count": 8,
     "metadata": {},
     "output_type": "execute_result"
    }
   ],
   "source": [
    "# Dropout 25% 비율 적용 (25%의 노드가 삭제)\n",
    "tf.keras.layers.Dropout(0.25)"
   ]
  },
  {
   "attachments": {},
   "cell_type": "markdown",
   "metadata": {},
   "source": [
    "## 4-4. 배치 정규화"
   ]
  },
  {
   "cell_type": "code",
   "execution_count": 9,
   "metadata": {},
   "outputs": [
    {
     "name": "stdout",
     "output_type": "stream",
     "text": [
      "Model: \"sequential\"\n",
      "_________________________________________________________________\n",
      " Layer (type)                Output Shape              Param #   \n",
      "=================================================================\n",
      " flatten (Flatten)           (None, 784)               0         \n",
      "                                                                 \n",
      " dense_6 (Dense)             (None, 64)                50240     \n",
      "                                                                 \n",
      " dense_7 (Dense)             (None, 32)                2080      \n",
      "                                                                 \n",
      " dense_8 (Dense)             (None, 10)                330       \n",
      "                                                                 \n",
      "=================================================================\n",
      "Total params: 52650 (205.66 KB)\n",
      "Trainable params: 52650 (205.66 KB)\n",
      "Non-trainable params: 0 (0.00 Byte)\n",
      "_________________________________________________________________\n"
     ]
    }
   ],
   "source": [
    "# Model A: Dense + ReLU\n",
    "model_a = tf.keras.Sequential([\n",
    "    tf.keras.layers.Flatten(input_shape=(28, 28)),\n",
    "    tf.keras.layers.Dense(64, activation='relu'),\n",
    "    tf.keras.layers.Dense(32, activation='relu'),\n",
    "    tf.keras.layers.Dense(10, activation='softmax'),\n",
    "])\n",
    "model_a.summary()"
   ]
  },
  {
   "cell_type": "code",
   "execution_count": 10,
   "metadata": {},
   "outputs": [
    {
     "name": "stdout",
     "output_type": "stream",
     "text": [
      "Model: \"sequential_1\"\n",
      "_________________________________________________________________\n",
      " Layer (type)                Output Shape              Param #   \n",
      "=================================================================\n",
      " flatten_1 (Flatten)         (None, 784)               0         \n",
      "                                                                 \n",
      " dense_9 (Dense)             (None, 64)                50240     \n",
      "                                                                 \n",
      " batch_normalization (Batch  (None, 64)                256       \n",
      " Normalization)                                                  \n",
      "                                                                 \n",
      " activation (Activation)     (None, 64)                0         \n",
      "                                                                 \n",
      " dense_10 (Dense)            (None, 32)                2080      \n",
      "                                                                 \n",
      " batch_normalization_1 (Bat  (None, 32)                128       \n",
      " chNormalization)                                                \n",
      "                                                                 \n",
      " activation_1 (Activation)   (None, 32)                0         \n",
      "                                                                 \n",
      " dense_11 (Dense)            (None, 10)                330       \n",
      "                                                                 \n",
      "=================================================================\n",
      "Total params: 53034 (207.16 KB)\n",
      "Trainable params: 52842 (206.41 KB)\n",
      "Non-trainable params: 192 (768.00 Byte)\n",
      "_________________________________________________________________\n"
     ]
    }
   ],
   "source": [
    "# Model B: Dense + BatchNorm + ReLU\n",
    "model_b = tf.keras.Sequential([\n",
    "    tf.keras.layers.Flatten(input_shape=(28, 28)),\n",
    "    tf.keras.layers.Dense(64),\n",
    "    # 배치정규화 적용\n",
    "    tf.keras.layers.BatchNormalization(),\n",
    "    # 배치정규화 후 활성화 함수 적용\n",
    "    tf.keras.layers.Activation('relu'),\n",
    "\n",
    "    tf.keras.layers.Dense(32),\n",
    "    # 배치정규화 적용\n",
    "    tf.keras.layers.BatchNormalization(),\n",
    "    # 배치정규화 후 활성화 함수 적용\n",
    "    tf.keras.layers.Activation('relu'),\n",
    "\n",
    "    tf.keras.layers.Dense(10, activation='softmax'),\n",
    "])\n",
    "model_b.summary()"
   ]
  },
  {
   "attachments": {},
   "cell_type": "markdown",
   "metadata": {},
   "source": [
    "## 4-5. 활성화 함수"
   ]
  },
  {
   "cell_type": "code",
   "execution_count": 11,
   "metadata": {},
   "outputs": [
    {
     "data": {
      "text/plain": [
       "<keras.src.layers.activation.leaky_relu.LeakyReLU at 0x1de10effd30>"
      ]
     },
     "execution_count": 11,
     "metadata": {},
     "output_type": "execute_result"
    }
   ],
   "source": [
    "# LeakyReLU 기본 설정\n",
    "tf.keras.layers.LeakyReLU()\n",
    "\n",
    "# LeakyReLU, alpha=0.2 로 변경\n",
    "tf.keras.layers.LeakyReLU(alpha=0.2)"
   ]
  },
  {
   "cell_type": "code",
   "execution_count": 12,
   "metadata": {},
   "outputs": [
    {
     "name": "stdout",
     "output_type": "stream",
     "text": [
      "Model: \"sequential_2\"\n",
      "_________________________________________________________________\n",
      " Layer (type)                Output Shape              Param #   \n",
      "=================================================================\n",
      " flatten_2 (Flatten)         (None, 784)               0         \n",
      "                                                                 \n",
      " dense_12 (Dense)            (None, 64)                50240     \n",
      "                                                                 \n",
      " batch_normalization_2 (Bat  (None, 64)                256       \n",
      " chNormalization)                                                \n",
      "                                                                 \n",
      " leaky_re_lu_2 (LeakyReLU)   (None, 64)                0         \n",
      "                                                                 \n",
      " dense_13 (Dense)            (None, 32)                2080      \n",
      "                                                                 \n",
      " batch_normalization_3 (Bat  (None, 32)                128       \n",
      " chNormalization)                                                \n",
      "                                                                 \n",
      " leaky_re_lu_3 (LeakyReLU)   (None, 32)                0         \n",
      "                                                                 \n",
      " dense_14 (Dense)            (None, 10)                330       \n",
      "                                                                 \n",
      "=================================================================\n",
      "Total params: 53034 (207.16 KB)\n",
      "Trainable params: 52842 (206.41 KB)\n",
      "Non-trainable params: 192 (768.00 Byte)\n",
      "_________________________________________________________________\n"
     ]
    }
   ],
   "source": [
    "# Model C: Dense + BatchNorm + LeakyReLU(0.2)\n",
    "model_c = tf.keras.Sequential([\n",
    "    tf.keras.layers.Flatten(input_shape=(28, 28)),\n",
    "    tf.keras.layers.Dense(64),\n",
    "    # 배치정규화 적용\n",
    "    tf.keras.layers.BatchNormalization(),\n",
    "    # LeakyReLU, alpha=0.2 적용\n",
    "    tf.keras.layers.LeakyReLU(alpha=0.2),\n",
    "\n",
    "    tf.keras.layers.Dense(32),\n",
    "    # 배치정규화 적용\n",
    "    tf.keras.layers.BatchNormalization(),\n",
    "    # LeakyReLU, alpha=0.2 적용\n",
    "    tf.keras.layers.LeakyReLU(alpha=0.2),\n",
    "\n",
    "    tf.keras.layers.Dense(10, activation='softmax'),\n",
    "])\n",
    "\n",
    "# 모델 요약\n",
    "model_c.summary()"
   ]
  },
  {
   "cell_type": "code",
   "execution_count": 13,
   "metadata": {},
   "outputs": [
    {
     "name": "stdout",
     "output_type": "stream",
     "text": [
      "Epoch 1/10\n",
      "1875/1875 [==============================] - 3s 1ms/step - loss: 0.2950 - accuracy: 0.9149 - val_loss: 0.1588 - val_accuracy: 0.9526\n",
      "Epoch 2/10\n",
      "1875/1875 [==============================] - 2s 1ms/step - loss: 0.1315 - accuracy: 0.9603 - val_loss: 0.1183 - val_accuracy: 0.9634\n",
      "Epoch 3/10\n",
      "1875/1875 [==============================] - 2s 1ms/step - loss: 0.0965 - accuracy: 0.9708 - val_loss: 0.1043 - val_accuracy: 0.9684\n",
      "Epoch 4/10\n",
      "1875/1875 [==============================] - 2s 1ms/step - loss: 0.0766 - accuracy: 0.9761 - val_loss: 0.1068 - val_accuracy: 0.9696\n",
      "Epoch 5/10\n",
      "1875/1875 [==============================] - 2s 1ms/step - loss: 0.0628 - accuracy: 0.9804 - val_loss: 0.0925 - val_accuracy: 0.9715\n",
      "Epoch 6/10\n",
      "1875/1875 [==============================] - 2s 1ms/step - loss: 0.0529 - accuracy: 0.9833 - val_loss: 0.0940 - val_accuracy: 0.9724\n",
      "Epoch 7/10\n",
      "1875/1875 [==============================] - 3s 1ms/step - loss: 0.0447 - accuracy: 0.9854 - val_loss: 0.0962 - val_accuracy: 0.9744\n",
      "Epoch 8/10\n",
      "1875/1875 [==============================] - 3s 2ms/step - loss: 0.0386 - accuracy: 0.9875 - val_loss: 0.0983 - val_accuracy: 0.9740\n",
      "Epoch 9/10\n",
      "1875/1875 [==============================] - 2s 1ms/step - loss: 0.0342 - accuracy: 0.9887 - val_loss: 0.1083 - val_accuracy: 0.9734\n",
      "Epoch 10/10\n",
      "1875/1875 [==============================] - 2s 1ms/step - loss: 0.0316 - accuracy: 0.9898 - val_loss: 0.1061 - val_accuracy: 0.9726\n",
      "Epoch 1/10\n",
      "1875/1875 [==============================] - 4s 2ms/step - loss: 0.3137 - accuracy: 0.9136 - val_loss: 0.1266 - val_accuracy: 0.9617\n",
      "Epoch 2/10\n",
      "1875/1875 [==============================] - 3s 1ms/step - loss: 0.1379 - accuracy: 0.9578 - val_loss: 0.1112 - val_accuracy: 0.9658\n",
      "Epoch 3/10\n",
      "1875/1875 [==============================] - 3s 1ms/step - loss: 0.1111 - accuracy: 0.9649 - val_loss: 0.0992 - val_accuracy: 0.9687\n",
      "Epoch 4/10\n",
      "1875/1875 [==============================] - 3s 1ms/step - loss: 0.0942 - accuracy: 0.9704 - val_loss: 0.0864 - val_accuracy: 0.9743\n",
      "Epoch 5/10\n",
      "1875/1875 [==============================] - 3s 1ms/step - loss: 0.0790 - accuracy: 0.9750 - val_loss: 0.0816 - val_accuracy: 0.9750\n",
      "Epoch 6/10\n",
      "1875/1875 [==============================] - 3s 1ms/step - loss: 0.0714 - accuracy: 0.9771 - val_loss: 0.0866 - val_accuracy: 0.9746\n",
      "Epoch 7/10\n",
      "1875/1875 [==============================] - 3s 1ms/step - loss: 0.0667 - accuracy: 0.9786 - val_loss: 0.0813 - val_accuracy: 0.9775\n",
      "Epoch 8/10\n",
      "1875/1875 [==============================] - 3s 2ms/step - loss: 0.0605 - accuracy: 0.9805 - val_loss: 0.0764 - val_accuracy: 0.9783\n",
      "Epoch 9/10\n",
      "1875/1875 [==============================] - 3s 2ms/step - loss: 0.0573 - accuracy: 0.9811 - val_loss: 0.0781 - val_accuracy: 0.9765\n",
      "Epoch 10/10\n",
      "1875/1875 [==============================] - 3s 1ms/step - loss: 0.0522 - accuracy: 0.9827 - val_loss: 0.0821 - val_accuracy: 0.9774\n",
      "Epoch 1/10\n",
      "1875/1875 [==============================] - 4s 2ms/step - loss: 0.3262 - accuracy: 0.9088 - val_loss: 0.1485 - val_accuracy: 0.9563\n",
      "Epoch 2/10\n",
      "1875/1875 [==============================] - 3s 1ms/step - loss: 0.1591 - accuracy: 0.9517 - val_loss: 0.1138 - val_accuracy: 0.9644\n",
      "Epoch 3/10\n",
      "1875/1875 [==============================] - 3s 1ms/step - loss: 0.1244 - accuracy: 0.9617 - val_loss: 0.0917 - val_accuracy: 0.9722\n",
      "Epoch 4/10\n",
      "1875/1875 [==============================] - 3s 1ms/step - loss: 0.1056 - accuracy: 0.9668 - val_loss: 0.0991 - val_accuracy: 0.9665\n",
      "Epoch 5/10\n",
      "1875/1875 [==============================] - 3s 1ms/step - loss: 0.0917 - accuracy: 0.9709 - val_loss: 0.0951 - val_accuracy: 0.9707\n",
      "Epoch 6/10\n",
      "1875/1875 [==============================] - 3s 1ms/step - loss: 0.0842 - accuracy: 0.9730 - val_loss: 0.0777 - val_accuracy: 0.9757\n",
      "Epoch 7/10\n",
      "1875/1875 [==============================] - 3s 1ms/step - loss: 0.0789 - accuracy: 0.9747 - val_loss: 0.0793 - val_accuracy: 0.9729\n",
      "Epoch 8/10\n",
      "1875/1875 [==============================] - 3s 1ms/step - loss: 0.0707 - accuracy: 0.9770 - val_loss: 0.0945 - val_accuracy: 0.9709\n",
      "Epoch 9/10\n",
      "1875/1875 [==============================] - 3s 1ms/step - loss: 0.0692 - accuracy: 0.9783 - val_loss: 0.0802 - val_accuracy: 0.9753\n",
      "Epoch 10/10\n",
      "1875/1875 [==============================] - 3s 1ms/step - loss: 0.0647 - accuracy: 0.9788 - val_loss: 0.0702 - val_accuracy: 0.9764\n"
     ]
    }
   ],
   "source": [
    "model_a.compile(optimizer='adam', loss='sparse_categorical_crossentropy', metrics=['accuracy'])\n",
    "model_b.compile(optimizer='adam', loss='sparse_categorical_crossentropy', metrics=['accuracy'])\n",
    "model_c.compile(optimizer='adam', loss='sparse_categorical_crossentropy', metrics=['accuracy'])\n",
    "\n",
    "# Model A: Dense + ReLU\n",
    "history_a = model_a.fit(x_train, y_train, \n",
    "                        validation_data=(x_test, y_test), \n",
    "                        epochs=10)\n",
    "\n",
    "# Model B: Dense + BatchNorm + ReLU\n",
    "history_b = model_b.fit(x_train, y_train, \n",
    "                        validation_data=(x_test, y_test), \n",
    "                        epochs=10)\n",
    "\n",
    "# Model C: Dense + BatchNorm + LeakyReLU(0.2)\n",
    "history_c = model_c.fit(x_train, y_train, \n",
    "                        validation_data=(x_test, y_test), \n",
    "                        epochs=10)"
   ]
  },
  {
   "cell_type": "code",
   "execution_count": 14,
   "metadata": {},
   "outputs": [
    {
     "data": {
      "image/png": "[encoded data removed]",
      "text/plain": [
       "<Figure size 1000x700 with 1 Axes>"
      ]
     },
     "metadata": {},
     "output_type": "display_data"
    }
   ],
   "source": [
    "import matplotlib.pyplot as plt\n",
    "import numpy as np\n",
    "\n",
    "plt.figure(figsize=(10, 7))\n",
    "plt.plot(np.arange(1, 11), history_a.history['val_loss'], color='navy', linestyle=':')\n",
    "plt.plot(np.arange(1, 11), history_b.history['val_loss'], color='tomato', linestyle='-.')\n",
    "plt.plot(np.arange(1, 11), history_c.history['val_loss'], color='green', linestyle='-')\n",
    "\n",
    "plt.title('Losses', fontsize=20)\n",
    "plt.xlabel('Epochs')\n",
    "plt.ylabel('Losses')\n",
    "plt.legend(['ReLU', 'BatchNorm + ReLU','batchnorm + LeakyReLU'], fontsize=12)\n",
    "plt.show()"
   ]
  }
 ],
 "metadata": {
  "kernelspec": {
   "display_name": "Python 3",
   "language": "python",
   "name": "python3"
  },
  "language_info": {
   "codemirror_mode": {
    "name": "ipython",
    "version": 3
   },
   "file_extension": ".py",
   "mimetype": "text/x-python",
   "name": "python",
   "nbconvert_exporter": "python",
   "pygments_lexer": "ipython3",
   "version": "3.10.11"
  },
  "orig_nbformat": 4
 },
 "nbformat": 4,
 "nbformat_minor": 2
}
